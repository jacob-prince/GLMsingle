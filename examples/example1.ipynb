{
 "cells": [
  {
   "cell_type": "code",
   "execution_count": 1,
   "metadata": {},
   "outputs": [],
   "source": [
    "# Example 1: running GLMsingle on an example session from the Natural Scenes Dataset; comparing voxel reliability across versions"
   ]
  },
  {
   "cell_type": "code",
   "execution_count": 14,
   "metadata": {},
   "outputs": [],
   "source": [
    "import numpy as np\n",
    "import os\n",
    "from os.path import join, exists\n",
    "import sys\n",
    "import scipy.io as sio\n",
    "import matplotlib.pyplot as plt\n",
    "import nibabel as nib\n",
    "import pandas as pd\n",
    "from glmsingle.glmsingle import GLM_single\n",
    "import time\n",
    "import urllib.request"
   ]
  },
  {
   "cell_type": "code",
   "execution_count": 11,
   "metadata": {},
   "outputs": [
    {
     "data": {
      "text/plain": [
       "<module 'urllib.request' from '/opt/rh/rh-python36/root/usr/lib64/python3.6/urllib/request.py'>"
      ]
     },
     "execution_count": 11,
     "metadata": {},
     "output_type": "execute_result"
    }
   ],
   "source": []
  },
  {
   "cell_type": "code",
   "execution_count": 4,
   "metadata": {},
   "outputs": [],
   "source": [
    "homedir = f'/lab_data/tarrlab/jacobpri/GLMsingle'\n",
    "datadir = join(homedir,'examples','datasets')\n",
    "os.makedirs(datadir,exist_ok=True)\n",
    "\n",
    "datafn = join(datadir,'nsdcoreexampledataset.mat')"
   ]
  },
  {
   "cell_type": "code",
   "execution_count": 17,
   "metadata": {},
   "outputs": [],
   "source": [
    "if not exists(datafn):\n",
    "    \n",
    "    print(f'Downloading example dataset and saving to:\\n{datafn}')\n",
    "    # NSD core experiment, subject 1, session 1, one slice of the fMRI volume. 750 trials total\n",
    "    dataurl = 'https://www.dropbox.com/s/68lcqbdr00jyook/nsdcoreexampledataset.mat?dl=1'\n",
    "    \n",
    "    #file = urllib.urlretrieve()\n",
    "    urllib.request.urlretrieve(dataurl, datafn)\n",
    "    \n",
    "# load it\n",
    "X = sio.loadmat(datafn)\n",
    "\n",
    "data = X['data']\n",
    "design = X['design']\n",
    "stimdur = X['stimdur']\n",
    "tr = X['tr']\n",
    "    "
   ]
  },
  {
   "cell_type": "code",
   "execution_count": 2,
   "metadata": {},
   "outputs": [],
   "source": [
    "# Step 1: load fMRI dataset"
   ]
  },
  {
   "cell_type": "code",
   "execution_count": null,
   "metadata": {},
   "outputs": [],
   "source": [
    "datafn = join(homedir,'examples','datasets','nsdcoreexampledataset.mat')"
   ]
  },
  {
   "cell_type": "code",
   "execution_count": 3,
   "metadata": {},
   "outputs": [],
   "source": [
    "# Step 2: Run baseline GLM (canonical HRF and no optimizations) using GLMsingle"
   ]
  },
  {
   "cell_type": "code",
   "execution_count": 4,
   "metadata": {},
   "outputs": [],
   "source": [
    "# Step 3: Run GLMsingle with optimizations (library of HRFs, GLMdenoise, fractional ridge regression)"
   ]
  },
  {
   "cell_type": "code",
   "execution_count": null,
   "metadata": {},
   "outputs": [],
   "source": [
    "# Step 4: Get indices of betas from repeated images; compare voxel split-half reliability across beta versions"
   ]
  }
 ],
 "metadata": {
  "kernelspec": {
   "display_name": "Python 3",
   "language": "python",
   "name": "python3"
  },
  "language_info": {
   "codemirror_mode": {
    "name": "ipython",
    "version": 3
   },
   "file_extension": ".py",
   "mimetype": "text/x-python",
   "name": "python",
   "nbconvert_exporter": "python",
   "pygments_lexer": "ipython3",
   "version": "3.6.12"
  }
 },
 "nbformat": 4,
 "nbformat_minor": 4
}
